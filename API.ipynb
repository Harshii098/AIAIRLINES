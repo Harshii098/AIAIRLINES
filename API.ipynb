{
  "nbformat": 4,
  "nbformat_minor": 0,
  "metadata": {
    "colab": {
      "provenance": [],
      "collapsed_sections": []
    },
    "kernelspec": {
      "name": "python3",
      "display_name": "Python 3"
    },
    "language_info": {
      "name": "python"
    }
  },
  "cells": [
    {
      "cell_type": "markdown",
      "source": [
        "# ***Displaying the Dependent variables values***\n",
        "\n",
        "---\n",
        "\n"
      ],
      "metadata": {
        "id": "EfA_OaFkTog4"
      }
    },
    {
      "cell_type": "code",
      "execution_count": 23,
      "metadata": {
        "id": "BSDE4U4jJ-Bw"
      },
      "outputs": [],
      "source": [
        "import requests"
      ]
    },
    {
      "cell_type": "code",
      "source": [
        "r=requests.post(\"http://4a1f-34-125-79-215.ngrok.io/api/rep_data\",json={\"X\": [160,5,4,3,4,3,4,3,5,5,5,2,5,5,44.0,1,0,0,1,0]}, verify=False)"
      ],
      "metadata": {
        "id": "RC0vyUvRS-Np"
      },
      "execution_count": 46,
      "outputs": []
    },
    {
      "cell_type": "code",
      "source": [
        "r"
      ],
      "metadata": {
        "colab": {
          "base_uri": "https://localhost:8080/"
        },
        "id": "-b3tTH75TUum",
        "outputId": "ec50d7b8-974c-4d4f-a1f8-c850fdd77b6c"
      },
      "execution_count": 47,
      "outputs": [
        {
          "output_type": "execute_result",
          "data": {
            "text/plain": [
              "<Response [200]>"
            ]
          },
          "metadata": {},
          "execution_count": 47
        }
      ]
    },
    {
      "cell_type": "markdown",
      "source": [
        "# Predicting the satisfaction(POST):\n",
        "\n",
        "*   ***0:neutral or dissatisfied***\n",
        "*   ***1:satisfied*** \n",
        "\n"
      ],
      "metadata": {
        "id": "--XbucAnV_7c"
      }
    },
    {
      "cell_type": "code",
      "source": [
        "r.json()"
      ],
      "metadata": {
        "colab": {
          "base_uri": "https://localhost:8080/"
        },
        "id": "Kf0HG9KKTW5r",
        "outputId": "8fe249fc-162d-4052-a93d-8c5baf55daf1"
      },
      "execution_count": 48,
      "outputs": [
        {
          "output_type": "execute_result",
          "data": {
            "text/plain": [
              "{'X': [160, 5, 4, 3, 4, 3, 4, 3, 5, 5, 5, 2, 5, 5, 44.0, 1, 0, 0, 1, 0]}"
            ]
          },
          "metadata": {},
          "execution_count": 48
        }
      ]
    },
    {
      "cell_type": "code",
      "source": [
        "r=requests.post(\"http://4a1f-34-125-79-215.ngrok.io/pre\", json={\"X\": [160,5,4,3,4,3,4,3,5,5,5,2,5,5,44.0,1,0,0,1,0]}, verify=False)"
      ],
      "metadata": {
        "id": "xW7B_cVDKAYN"
      },
      "execution_count": 39,
      "outputs": []
    },
    {
      "cell_type": "code",
      "source": [
        "r"
      ],
      "metadata": {
        "colab": {
          "base_uri": "https://localhost:8080/"
        },
        "id": "CcRgyHXRKQt6",
        "outputId": "fa4d36a1-b5e0-496f-838d-d9125e0a56a1"
      },
      "execution_count": 40,
      "outputs": [
        {
          "output_type": "execute_result",
          "data": {
            "text/plain": [
              "<Response [200]>"
            ]
          },
          "metadata": {},
          "execution_count": 40
        }
      ]
    },
    {
      "cell_type": "code",
      "source": [
        "r.json()"
      ],
      "metadata": {
        "colab": {
          "base_uri": "https://localhost:8080/"
        },
        "id": "KuVMsfh6Kb60",
        "outputId": "6f03bb87-b194-479e-ad60-80185a645a7d"
      },
      "execution_count": 41,
      "outputs": [
        {
          "output_type": "execute_result",
          "data": {
            "text/plain": [
              "1"
            ]
          },
          "metadata": {},
          "execution_count": 41
        }
      ]
    }
  ]
}