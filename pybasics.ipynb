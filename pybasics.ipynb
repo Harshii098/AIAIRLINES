{
  "nbformat": 4,
  "nbformat_minor": 0,
  "metadata": {
    "colab": {
      "provenance": [],
      "collapsed_sections": []
    },
    "kernelspec": {
      "name": "python3",
      "display_name": "Python 3"
    },
    "language_info": {
      "name": "python"
    }
  },
  "cells": [
    {
      "cell_type": "markdown",
      "source": [
        "# How to Create a Set"
      ],
      "metadata": {
        "id": "2ebA-pA2cebv"
      }
    },
    {
      "cell_type": "code",
      "execution_count": 2,
      "metadata": {
        "colab": {
          "base_uri": "https://localhost:8080/"
        },
        "id": "8UtRhO6BcE_h",
        "outputId": "f21e630a-5407-48e9-c1cd-a477f654106d"
      },
      "outputs": [
        {
          "output_type": "execute_result",
          "data": {
            "text/plain": [
              "{(1, 2, 3), 32, 'Connor'}"
            ]
          },
          "metadata": {},
          "execution_count": 2
        }
      ],
      "source": [
        "first_set = set((\"Connor\", 32, (1, 2, 3))) \n",
        "first_set"
      ]
    },
    {
      "cell_type": "code",
      "source": [
        "second_set = set(\"Connor\")\n",
        "second_set"
      ],
      "metadata": {
        "colab": {
          "base_uri": "https://localhost:8080/"
        },
        "id": "Y8ARpxiZcS7Z",
        "outputId": "5c5cbd02-9937-455d-8325-c7301bbab346"
      },
      "execution_count": 3,
      "outputs": [
        {
          "output_type": "execute_result",
          "data": {
            "text/plain": [
              "{'C', 'n', 'o', 'r'}"
            ]
          },
          "metadata": {},
          "execution_count": 3
        }
      ]
    },
    {
      "cell_type": "code",
      "source": [
        "third_set = {\"Apples\", (\"Bananas\", \"Oranges\")}\n",
        "type(third_set)"
      ],
      "metadata": {
        "colab": {
          "base_uri": "https://localhost:8080/"
        },
        "id": "d5WRWGCscbGd",
        "outputId": "af321df9-12c8-48b0-b092-c2d3ad44c96b"
      },
      "execution_count": 4,
      "outputs": [
        {
          "output_type": "execute_result",
          "data": {
            "text/plain": [
              "set"
            ]
          },
          "metadata": {},
          "execution_count": 4
        }
      ]
    },
    {
      "cell_type": "markdown",
      "source": [
        "# How to Add or Remove Elements in a Set"
      ],
      "metadata": {
        "id": "qmlXFj7gcr5P"
      }
    },
    {
      "cell_type": "code",
      "source": [
        "add_set = set((1, 2, 3, 4))\n",
        "add_set\n"
      ],
      "metadata": {
        "colab": {
          "base_uri": "https://localhost:8080/"
        },
        "id": "1zujtUBGdy6Y",
        "outputId": "8871c5c4-92c0-4ade-d371-13211357b67c"
      },
      "execution_count": 5,
      "outputs": [
        {
          "output_type": "execute_result",
          "data": {
            "text/plain": [
              "{1, 2, 3, 4}"
            ]
          },
          "metadata": {},
          "execution_count": 5
        }
      ]
    },
    {
      "cell_type": "code",
      "source": [
        "add_set.update((\"cello\", \"violin\"))\n",
        "add_set"
      ],
      "metadata": {
        "colab": {
          "base_uri": "https://localhost:8080/"
        },
        "id": "Khd55JN3eVX4",
        "outputId": "789787bf-fd3a-4c2a-cbaf-9f0902bb681f"
      },
      "execution_count": 6,
      "outputs": [
        {
          "output_type": "execute_result",
          "data": {
            "text/plain": [
              "{1, 2, 3, 4, 'cello', 'violin'}"
            ]
          },
          "metadata": {},
          "execution_count": 6
        }
      ]
    },
    {
      "cell_type": "code",
      "source": [
        "sub_set = add_set\n",
        "sub_set.remove(\"violin\")\n",
        "sub_set"
      ],
      "metadata": {
        "colab": {
          "base_uri": "https://localhost:8080/"
        },
        "id": "gHfAbbMder1S",
        "outputId": "916e5065-a633-4139-84d1-8af5a2326933"
      },
      "execution_count": 7,
      "outputs": [
        {
          "output_type": "execute_result",
          "data": {
            "text/plain": [
              "{1, 2, 3, 4, 'cello'}"
            ]
          },
          "metadata": {},
          "execution_count": 7
        }
      ]
    },
    {
      "cell_type": "code",
      "source": [
        "m_set = set((1, 2, 3, 4))"
      ],
      "metadata": {
        "id": "C7-bx3YSe0lZ"
      },
      "execution_count": 8,
      "outputs": []
    },
    {
      "cell_type": "code",
      "source": [
        "m_set.discard(5)"
      ],
      "metadata": {
        "id": "2DV8ndM9e4Ux"
      },
      "execution_count": 9,
      "outputs": []
    },
    {
      "cell_type": "code",
      "source": [
        "m_set.pop()"
      ],
      "metadata": {
        "colab": {
          "base_uri": "https://localhost:8080/"
        },
        "id": "ruMHrHBae8Bm",
        "outputId": "5f92027a-eb6c-495f-cd95-ccc3e3e555d4"
      },
      "execution_count": 10,
      "outputs": [
        {
          "output_type": "execute_result",
          "data": {
            "text/plain": [
              "1"
            ]
          },
          "metadata": {},
          "execution_count": 10
        }
      ]
    },
    {
      "cell_type": "code",
      "source": [
        "m_set"
      ],
      "metadata": {
        "colab": {
          "base_uri": "https://localhost:8080/"
        },
        "id": "4sFkMMrde_vA",
        "outputId": "6e84b307-de64-46cb-c0a0-08fbf8b09dec"
      },
      "execution_count": 11,
      "outputs": [
        {
          "output_type": "execute_result",
          "data": {
            "text/plain": [
              "{2, 3, 4}"
            ]
          },
          "metadata": {},
          "execution_count": 11
        }
      ]
    },
    {
      "cell_type": "code",
      "source": [
        "m_set.clear()"
      ],
      "metadata": {
        "id": "cGc6yVlUfDKm"
      },
      "execution_count": 12,
      "outputs": []
    },
    {
      "cell_type": "code",
      "source": [
        "m_set"
      ],
      "metadata": {
        "colab": {
          "base_uri": "https://localhost:8080/"
        },
        "id": "QhQX7ChafGiT",
        "outputId": "06671922-3d77-45dd-aea3-4d54eee356a1"
      },
      "execution_count": 13,
      "outputs": [
        {
          "output_type": "execute_result",
          "data": {
            "text/plain": [
              "set()"
            ]
          },
          "metadata": {},
          "execution_count": 13
        }
      ]
    },
    {
      "cell_type": "markdown",
      "source": [
        "# ***Python set() Operations***"
      ],
      "metadata": {
        "id": "DVEQBoOXfKz-"
      }
    },
    {
      "cell_type": "markdown",
      "source": [
        "1. Set Union"
      ],
      "metadata": {
        "id": "7yUd1EVcfVeq"
      }
    },
    {
      "cell_type": "code",
      "source": [
        "first_set = {1, 2, 3}\n",
        "second_set = {3, 4, 5}"
      ],
      "metadata": {
        "id": "X4U_DeY0fO3y"
      },
      "execution_count": 14,
      "outputs": []
    },
    {
      "cell_type": "code",
      "source": [
        "first_set.union(second_set)\n",
        "{1, 2, 3, 4, 5}"
      ],
      "metadata": {
        "colab": {
          "base_uri": "https://localhost:8080/"
        },
        "id": "bitm5qH6ffH6",
        "outputId": "6371c09d-b417-4e36-ad04-7bc95621e847"
      },
      "execution_count": 15,
      "outputs": [
        {
          "output_type": "execute_result",
          "data": {
            "text/plain": [
              "{1, 2, 3, 4, 5}"
            ]
          },
          "metadata": {},
          "execution_count": 15
        }
      ]
    },
    {
      "cell_type": "markdown",
      "source": [
        "2. Set Intersection"
      ],
      "metadata": {
        "id": "Rh5UTlsPfkhP"
      }
    },
    {
      "cell_type": "code",
      "source": [
        "first_set = {1, 2, 3, 4, 5, 6}\n",
        "second_set = {4, 5, 6, 7, 8, 9}"
      ],
      "metadata": {
        "id": "kO2tu16Jfmcy"
      },
      "execution_count": 16,
      "outputs": []
    },
    {
      "cell_type": "code",
      "source": [
        "first_set.intersection(second_set)\n",
        "{4, 5, 6}"
      ],
      "metadata": {
        "colab": {
          "base_uri": "https://localhost:8080/"
        },
        "id": "IfJTC75Sfspl",
        "outputId": "0356f2e9-070e-4348-a44a-60125e14d1c5"
      },
      "execution_count": 17,
      "outputs": [
        {
          "output_type": "execute_result",
          "data": {
            "text/plain": [
              "{4, 5, 6}"
            ]
          },
          "metadata": {},
          "execution_count": 17
        }
      ]
    },
    {
      "cell_type": "markdown",
      "source": [
        "3. Set Difference"
      ],
      "metadata": {
        "id": "T75FisajfwgG"
      }
    },
    {
      "cell_type": "code",
      "source": [
        "first_set = {1, 2, 3, 4, 5, 6}\n",
        "second_set = {4, 5, 6, 7, 8, 9}\n",
        "first_set.difference(second_set)"
      ],
      "metadata": {
        "colab": {
          "base_uri": "https://localhost:8080/"
        },
        "id": "TbED8ohdfyY2",
        "outputId": "1f3e916c-019d-4dab-ba0b-d7803ad7767c"
      },
      "execution_count": 18,
      "outputs": [
        {
          "output_type": "execute_result",
          "data": {
            "text/plain": [
              "{1, 2, 3}"
            ]
          },
          "metadata": {},
          "execution_count": 18
        }
      ]
    },
    {
      "cell_type": "code",
      "source": [
        "first_set - second_set   \n"
      ],
      "metadata": {
        "colab": {
          "base_uri": "https://localhost:8080/"
        },
        "id": "BmfhabvHf6ys",
        "outputId": "10a8dbff-7fd9-4050-8083-76ee49dbdd61"
      },
      "execution_count": 19,
      "outputs": [
        {
          "output_type": "execute_result",
          "data": {
            "text/plain": [
              "{1, 2, 3}"
            ]
          },
          "metadata": {},
          "execution_count": 19
        }
      ]
    },
    {
      "cell_type": "code",
      "source": [
        "second_set - first_set\n"
      ],
      "metadata": {
        "colab": {
          "base_uri": "https://localhost:8080/"
        },
        "id": "cQ9_x6-GgF4w",
        "outputId": "256efd8e-706e-4019-f2f9-a956359c372a"
      },
      "execution_count": 20,
      "outputs": [
        {
          "output_type": "execute_result",
          "data": {
            "text/plain": [
              "{7, 8, 9}"
            ]
          },
          "metadata": {},
          "execution_count": 20
        }
      ]
    },
    {
      "cell_type": "markdown",
      "source": [
        "4. Set Symmetric Difference"
      ],
      "metadata": {
        "id": "2g6o9s8cgNDB"
      }
    },
    {
      "cell_type": "code",
      "source": [
        "first_set = {1, 2, 3, 4, 5, 6}\n",
        "second_set = {4, 5, 6, 7, 8, 9}\n",
        "first_set.symmetric_difference(second_set)"
      ],
      "metadata": {
        "colab": {
          "base_uri": "https://localhost:8080/"
        },
        "id": "krAJ4OazgOeT",
        "outputId": "d8b8b44b-2608-4920-ba65-ebcb1f80e18a"
      },
      "execution_count": 21,
      "outputs": [
        {
          "output_type": "execute_result",
          "data": {
            "text/plain": [
              "{1, 2, 3, 7, 8, 9}"
            ]
          },
          "metadata": {},
          "execution_count": 21
        }
      ]
    },
    {
      "cell_type": "code",
      "source": [
        "first_set ^ second_set"
      ],
      "metadata": {
        "colab": {
          "base_uri": "https://localhost:8080/"
        },
        "id": "lb_8PIACgyKR",
        "outputId": "a5c4ca04-548f-49f0-bd00-b4be5046e177"
      },
      "execution_count": 22,
      "outputs": [
        {
          "output_type": "execute_result",
          "data": {
            "text/plain": [
              "{1, 2, 3, 7, 8, 9}"
            ]
          },
          "metadata": {},
          "execution_count": 22
        }
      ]
    },
    {
      "cell_type": "markdown",
      "source": [
        "How to Modify a Set by Operations"
      ],
      "metadata": {
        "id": "-B2oCrlqg3eS"
      }
    },
    {
      "cell_type": "code",
      "source": [
        "a = {1, 2, 3, 4, 5, 6}\n",
        "b = {4, 5, 6, 7, 8, 9}"
      ],
      "metadata": {
        "id": "sI0wqT2fg9LW"
      },
      "execution_count": 23,
      "outputs": []
    },
    {
      "cell_type": "code",
      "source": [
        "a.update(b)\n",
        "a"
      ],
      "metadata": {
        "colab": {
          "base_uri": "https://localhost:8080/"
        },
        "id": "aOd89SjLhB9Y",
        "outputId": "6f16dc1f-4221-46ed-efe7-9ac0de40d013"
      },
      "execution_count": 24,
      "outputs": [
        {
          "output_type": "execute_result",
          "data": {
            "text/plain": [
              "{1, 2, 3, 4, 5, 6, 7, 8, 9}"
            ]
          },
          "metadata": {},
          "execution_count": 24
        }
      ]
    },
    {
      "cell_type": "code",
      "source": [
        "a &= b \n",
        "a"
      ],
      "metadata": {
        "colab": {
          "base_uri": "https://localhost:8080/"
        },
        "id": "225VJeSxhInE",
        "outputId": "a87ce6bf-2637-463e-f875-af2674758214"
      },
      "execution_count": 25,
      "outputs": [
        {
          "output_type": "execute_result",
          "data": {
            "text/plain": [
              "{4, 5, 6, 7, 8, 9}"
            ]
          },
          "metadata": {},
          "execution_count": 25
        }
      ]
    },
    {
      "cell_type": "code",
      "source": [
        " a -= set((7, 8, 9))\n",
        " a"
      ],
      "metadata": {
        "colab": {
          "base_uri": "https://localhost:8080/"
        },
        "id": "R-w93Ih6hOOu",
        "outputId": "257d1808-512e-41c9-80a9-2ad2bc839bc4"
      },
      "execution_count": 26,
      "outputs": [
        {
          "output_type": "execute_result",
          "data": {
            "text/plain": [
              "{4, 5, 6}"
            ]
          },
          "metadata": {},
          "execution_count": 26
        }
      ]
    },
    {
      "cell_type": "code",
      "source": [
        "a ^= b \n",
        "a"
      ],
      "metadata": {
        "colab": {
          "base_uri": "https://localhost:8080/"
        },
        "id": "g0RcDPNdhaT4",
        "outputId": "32342207-9272-4a97-9ed4-36005a4d8fb6"
      },
      "execution_count": 27,
      "outputs": [
        {
          "output_type": "execute_result",
          "data": {
            "text/plain": [
              "{7, 8, 9}"
            ]
          },
          "metadata": {},
          "execution_count": 27
        }
      ]
    },
    {
      "cell_type": "markdown",
      "source": [
        "# ***Frozen Sets in Python***\n"
      ],
      "metadata": {
        "id": "S-bUZer_hg3F"
      }
    },
    {
      "cell_type": "code",
      "source": [
        "a = frozenset((1, 2, 3, 4))\n",
        "b = frozenset((3, 4, 5, 6))\n",
        "a.issubset(b)"
      ],
      "metadata": {
        "colab": {
          "base_uri": "https://localhost:8080/"
        },
        "id": "Z6JSJMuLhrey",
        "outputId": "85395014-439f-4d10-de58-c634eb417c8c"
      },
      "execution_count": 28,
      "outputs": [
        {
          "output_type": "execute_result",
          "data": {
            "text/plain": [
              "False"
            ]
          },
          "metadata": {},
          "execution_count": 28
        }
      ]
    },
    {
      "cell_type": "code",
      "source": [
        "a = frozenset((1, 2, 3, 4))\n",
        "b = frozenset((\"w\", \"x\", \"y\", \"z\"))\n",
        "d = {a: \"hello\", b: \"world\"}\n",
        "d"
      ],
      "metadata": {
        "colab": {
          "base_uri": "https://localhost:8080/"
        },
        "id": "LgipH3Cdh2r2",
        "outputId": "6e96846d-c279-436f-97f0-fd373d649333"
      },
      "execution_count": 29,
      "outputs": [
        {
          "output_type": "execute_result",
          "data": {
            "text/plain": [
              "{frozenset({1, 2, 3, 4}): 'hello', frozenset({'w', 'x', 'y', 'z'}): 'world'}"
            ]
          },
          "metadata": {},
          "execution_count": 29
        }
      ]
    },
    {
      "cell_type": "markdown",
      "source": [
        "# ***Tuple Creation***"
      ],
      "metadata": {
        "id": "25eqp43EiMHU"
      }
    },
    {
      "cell_type": "code",
      "source": [
        "tuple_1 = 1, 2, 3 \n",
        "print(tuple_1)"
      ],
      "metadata": {
        "colab": {
          "base_uri": "https://localhost:8080/"
        },
        "id": "Z5sjC3gsiQe-",
        "outputId": "38f3c36d-934a-418f-f8ee-b2c07dc1309e"
      },
      "execution_count": 30,
      "outputs": [
        {
          "output_type": "stream",
          "name": "stdout",
          "text": [
            "(1, 2, 3)\n"
          ]
        }
      ]
    },
    {
      "cell_type": "code",
      "source": [
        "type(tuple_1)"
      ],
      "metadata": {
        "colab": {
          "base_uri": "https://localhost:8080/"
        },
        "id": "XVWIyiuMifOJ",
        "outputId": "5bbf3560-80ed-430d-b0c5-e83579c4ea27"
      },
      "execution_count": 31,
      "outputs": [
        {
          "output_type": "execute_result",
          "data": {
            "text/plain": [
              "tuple"
            ]
          },
          "metadata": {},
          "execution_count": 31
        }
      ]
    },
    {
      "cell_type": "code",
      "source": [
        "len(tuple_1)"
      ],
      "metadata": {
        "colab": {
          "base_uri": "https://localhost:8080/"
        },
        "id": "sreWqfTeiiAZ",
        "outputId": "0bef2e4f-d26b-4505-ff9c-5aa6c055de38"
      },
      "execution_count": 32,
      "outputs": [
        {
          "output_type": "execute_result",
          "data": {
            "text/plain": [
              "3"
            ]
          },
          "metadata": {},
          "execution_count": 32
        }
      ]
    },
    {
      "cell_type": "code",
      "source": [
        "my_tuple = 1, 2, 9, 16, 25\n",
        "print(my_tuple)"
      ],
      "metadata": {
        "colab": {
          "base_uri": "https://localhost:8080/"
        },
        "id": "iJ29z-T2it7a",
        "outputId": "3b4e78c7-4028-4007-b8ce-4af82e14c229"
      },
      "execution_count": 33,
      "outputs": [
        {
          "output_type": "stream",
          "name": "stdout",
          "text": [
            "(1, 2, 9, 16, 25)\n"
          ]
        }
      ]
    },
    {
      "cell_type": "code",
      "source": [
        "tup1 = ('physics', 'chemistry', 1997, 2000);\n",
        "tup2 = (1, 2, 3, 4, 5, 6, 7 );\n",
        "print (\"tup1[0]: \", tup1[0])\n",
        "print (\"tup2[1:5]: \", tup2[1:5])"
      ],
      "metadata": {
        "colab": {
          "base_uri": "https://localhost:8080/"
        },
        "id": "3ooRG1iqjA51",
        "outputId": "ddaf2557-1e16-4a76-8f0b-9a663be8357b"
      },
      "execution_count": 34,
      "outputs": [
        {
          "output_type": "stream",
          "name": "stdout",
          "text": [
            "tup1[0]:  physics\n",
            "tup2[1:5]:  (2, 3, 4, 5)\n"
          ]
        }
      ]
    },
    {
      "cell_type": "code",
      "source": [
        "tup1 = (12, 34.56);\n",
        "tup2 = ('abc', 'xyz');\n",
        "tup3 = tup1 + tup2;\n",
        "print (tup3)"
      ],
      "metadata": {
        "colab": {
          "base_uri": "https://localhost:8080/"
        },
        "id": "rN9sllupjPN2",
        "outputId": "f50f306c-d9a7-4bc5-e72c-84891bf39a99"
      },
      "execution_count": 35,
      "outputs": [
        {
          "output_type": "stream",
          "name": "stdout",
          "text": [
            "(12, 34.56, 'abc', 'xyz')\n"
          ]
        }
      ]
    },
    {
      "cell_type": "markdown",
      "source": [
        "# ***Slicing***"
      ],
      "metadata": {
        "id": "Jm1SVtBrj8IC"
      }
    },
    {
      "cell_type": "code",
      "source": [
        "my_tuple = ('p','r','o','g','r','a','m','i','z')\n",
        "print(my_tuple[1:4])"
      ],
      "metadata": {
        "colab": {
          "base_uri": "https://localhost:8080/"
        },
        "id": "VWVaIjfQkCIK",
        "outputId": "eecc87ab-bfde-4c84-c1ca-13f577cd9b96"
      },
      "execution_count": 36,
      "outputs": [
        {
          "output_type": "stream",
          "name": "stdout",
          "text": [
            "('r', 'o', 'g')\n"
          ]
        }
      ]
    },
    {
      "cell_type": "markdown",
      "source": [
        "# ***Changing a Tuple***"
      ],
      "metadata": {
        "id": "kXKyCxzDI08I"
      }
    },
    {
      "cell_type": "code",
      "source": [
        "# Changing tuple values\n",
        "my_tuple = (4, 2, 3, [6, 5])"
      ],
      "metadata": {
        "id": "LKH9nhQeI0iw"
      },
      "execution_count": 1,
      "outputs": []
    },
    {
      "cell_type": "code",
      "source": [
        "# Tuples can be reassigned\n",
        "my_tuple = ('p', 'r', 'o', 'g', 'r', 'a', 'm', 'i', 'z')\n",
        "print(my_tuple)"
      ],
      "metadata": {
        "colab": {
          "base_uri": "https://localhost:8080/"
        },
        "id": "lVJxLVvbJTah",
        "outputId": "4b6344f2-b2c9-4cb6-e91e-2eaed20e0050"
      },
      "execution_count": 39,
      "outputs": [
        {
          "output_type": "stream",
          "name": "stdout",
          "text": [
            "('p', 'r', 'o', 'g', 'r', 'a', 'm', 'i', 'z')\n"
          ]
        }
      ]
    },
    {
      "cell_type": "markdown",
      "source": [
        "# List Operations in Python"
      ],
      "metadata": {
        "id": "kkOkVWz7JnIh"
      }
    },
    {
      "cell_type": "code",
      "source": [
        "a = [1,2,\"Peter\",4.50,\"Ricky\",5,6]  \n",
        "b = [1,2,5,\"Peter\",4.50,\"Ricky\",6]  \n",
        "a ==b "
      ],
      "metadata": {
        "colab": {
          "base_uri": "https://localhost:8080/"
        },
        "id": "zY3OCmk2Ki8e",
        "outputId": "809bcada-51f4-489a-849d-427fd62b06f5"
      },
      "execution_count": 42,
      "outputs": [
        {
          "output_type": "execute_result",
          "data": {
            "text/plain": [
              "False"
            ]
          },
          "metadata": {},
          "execution_count": 42
        }
      ]
    },
    {
      "cell_type": "code",
      "source": [
        "a = [1, 2,\"Peter\", 4.50,\"Ricky\",5, 6]  \n",
        "b = [1, 2,\"Peter\", 4.50,\"Ricky\",5, 6]  \n",
        "a == b "
      ],
      "metadata": {
        "colab": {
          "base_uri": "https://localhost:8080/"
        },
        "id": "qEd6jhDOKm9B",
        "outputId": "8766cd74-b739-4bbb-dc18-675db7e4337c"
      },
      "execution_count": 43,
      "outputs": [
        {
          "output_type": "execute_result",
          "data": {
            "text/plain": [
              "True"
            ]
          },
          "metadata": {},
          "execution_count": 43
        }
      ]
    },
    {
      "cell_type": "markdown",
      "source": [
        "# ***List indexing and splitting***"
      ],
      "metadata": {
        "id": "x3tQwk2_KrHa"
      }
    },
    {
      "cell_type": "code",
      "source": [
        "list = [1,2,3,4,5,6,7]  \n",
        "print(list[0])  \n",
        "print(list[1])  \n",
        "print(list[2])  \n",
        "print(list[3])  \n",
        "# Slicing the elements  \n",
        "print(list[0:6])  \n",
        "# By default the index value is 0 so its starts from the 0th element and go for index -1.  \n",
        "print(list[:])  \n",
        "print(list[2:5])  \n",
        "print(list[1:6:2]) "
      ],
      "metadata": {
        "colab": {
          "base_uri": "https://localhost:8080/"
        },
        "id": "tNnmjSgFKwvV",
        "outputId": "34fe67d0-9de3-4024-cbe8-3a0181865a1a"
      },
      "execution_count": 44,
      "outputs": [
        {
          "output_type": "stream",
          "name": "stdout",
          "text": [
            "1\n",
            "2\n",
            "3\n",
            "4\n",
            "[1, 2, 3, 4, 5, 6]\n",
            "[1, 2, 3, 4, 5, 6, 7]\n",
            "[3, 4, 5]\n",
            "[2, 4, 6]\n"
          ]
        }
      ]
    },
    {
      "cell_type": "code",
      "source": [
        "list = [1,2,3,4,5]  \n",
        "print(list[-1])  \n",
        "print(list[-3:])  \n",
        "print(list[:-1])  \n",
        "print(list[-3:-1])  "
      ],
      "metadata": {
        "colab": {
          "base_uri": "https://localhost:8080/"
        },
        "id": "chmCJeBAK0kc",
        "outputId": "6663d42b-00e8-4efa-ea2f-d4f67f13b57b"
      },
      "execution_count": 45,
      "outputs": [
        {
          "output_type": "stream",
          "name": "stdout",
          "text": [
            "5\n",
            "[3, 4, 5]\n",
            "[1, 2, 3, 4]\n",
            "[3, 4]\n"
          ]
        }
      ]
    },
    {
      "cell_type": "markdown",
      "source": [
        "***Iterating a List***"
      ],
      "metadata": {
        "id": "vC_yfqqvK6sU"
      }
    },
    {
      "cell_type": "code",
      "source": [
        "list = [\"John\", \"David\", \"James\", \"Jonathan\"]    \n",
        "for i in list:        \n",
        "    print(i)  "
      ],
      "metadata": {
        "colab": {
          "base_uri": "https://localhost:8080/"
        },
        "id": "wKaZzTNDK82T",
        "outputId": "61205dc3-40fe-4a94-d1d8-87835832e9a3"
      },
      "execution_count": 46,
      "outputs": [
        {
          "output_type": "stream",
          "name": "stdout",
          "text": [
            "John\n",
            "David\n",
            "James\n",
            "Jonathan\n"
          ]
        }
      ]
    }
  ]
}